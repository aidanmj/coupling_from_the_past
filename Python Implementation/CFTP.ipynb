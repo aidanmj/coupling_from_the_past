{
 "cells": [
  {
   "cell_type": "code",
   "execution_count": 4,
   "id": "6edeb365-95af-4a8c-a53d-e715aa91f927",
   "metadata": {},
   "outputs": [],
   "source": [
    "import numpy as np\n",
    "from matplotlib import pyplot as plt\n",
    "import math\n",
    "import time\n",
    "import cProfile\n",
    "import pstats"
   ]
  },
  {
   "cell_type": "code",
   "execution_count": 5,
   "id": "97546be7-d5c6-4f58-be27-2c5932e7a588",
   "metadata": {},
   "outputs": [],
   "source": [
    "class Graph:\n",
    "    def __init__(self, vertex_set, edge_set):\n",
    "        self.V = vertex_set\n",
    "        self.E = edge_set\n",
    "    \n",
    "    def easy_access(self):\n",
    "        self.V_E_map = []\n",
    "        for v in range(len(self.V)):\n",
    "            self.V_E_map.append([])\n",
    "        for e in self.E:\n",
    "            self.V_E_map[e[0]].append(e[1])\n",
    "            if e[1] != e[0]: \n",
    "                self.V_E_map[e[1]].append(e[0])\n",
    "\n",
    "    def copy(self):\n",
    "        v = self.V.copy()\n",
    "        e = self.E.copy()\n",
    "        g = Graph(v, e)\n",
    "        if hasattr(self, 'V_E_map'):\n",
    "            g.easy_access()\n",
    "        return g"
   ]
  },
  {
   "cell_type": "code",
   "execution_count": 6,
   "id": "2f4035c2-386f-4555-998e-311e616cc273",
   "metadata": {},
   "outputs": [],
   "source": [
    "class SquareLattice(Graph):\n",
    "    def __init__(self, dimension, length):\n",
    "\n",
    "        self.dim = dimension\n",
    "        self.len = length\n",
    "\n",
    "        v = []\n",
    "        e = []\n",
    "\n",
    "        #numpy array\n",
    "        for i in range(self.len ** self.dim):\n",
    "            v.append(self.base_convert(i))\n",
    "            for d in range(self.dim):\n",
    "                if v[i][d] < self.len - 1:\n",
    "                    e += [[i, i + length ** d]]\n",
    "        \n",
    "        self.V = v\n",
    "        self.E = e\n",
    "\n",
    "    def base_convert(self, value, reverse = False):\n",
    "        if reverse:\n",
    "            v = 0\n",
    "            for d in range(self.dim):\n",
    "                v += value[d] * (self.len ** self.dim)\n",
    "            return v\n",
    "\n",
    "        else:\n",
    "            v = []\n",
    "            for d in range(self.dim):\n",
    "                value = value // (self.len ** d)\n",
    "                v += [value % self.len]\n",
    "            return v"
   ]
  },
  {
   "cell_type": "code",
   "execution_count": 7,
   "id": "2b17e7ec-ddef-4004-8a3b-126cc952744e",
   "metadata": {},
   "outputs": [],
   "source": [
    "class IsingModel:\n",
    "    def __init__(self, graph, b, init):\n",
    "        self.graph = graph.copy()\n",
    "        self.graph.easy_access()\n",
    "        self.b = b\n",
    "\n",
    "        if 0 < init and init < 1:\n",
    "            for i in range(len(self.graph.V)):\n",
    "                self.graph.V[i] = np.random.binomial(1, init)\n",
    "        elif init == 1:\n",
    "            self.graph.V = [1 for i in self.graph.V]\n",
    "        elif init == -1:\n",
    "            self.graph.V = [-1 for i in self.graph.V]\n",
    "        else:\n",
    "            self.graph.V = self.graph.V\n",
    "\n",
    "    def copy(self):\n",
    "        g = self.graph.copy()\n",
    "        i = IsingModel(g, self.b, init=False)\n",
    "        return i\n",
    "\n",
    "    def equals(self, model):\n",
    "        if self.graph.V == model.graph.V:\n",
    "            return True\n",
    "        else:\n",
    "            return False\n",
    "\n",
    "    def print(self):\n",
    "        print(self.graph.V)\n",
    "\n",
    "    @staticmethod\n",
    "    def H(model):\n",
    "        H = 0\n",
    "        for e in model.graph.E:\n",
    "            H -= model.graph.V[e[0]] * model.graph.V[e[1]]\n",
    "\n",
    "    @staticmethod\n",
    "    def glaubner_coupling(model, randnum):\n",
    "\n",
    "        size = len(model.graph.V)\n",
    "        randnum *= size\n",
    "        randindex = math.floor(randnum)\n",
    "        randval = randnum - randindex\n",
    "\n",
    "        s = sum([model.graph.V[i] for i in model.graph.V_E_map[randindex]])\n",
    "        p = (1 + math.tanh(model.b * s)) / 2\n",
    "        \n",
    "        if randval <= p:\n",
    "            model.graph.V[randindex] = 1\n",
    "            \n",
    "        else:\n",
    "            model.graph.V[randindex] = -1\n",
    "\n",
    "        return model"
   ]
  },
  {
   "cell_type": "code",
   "execution_count": 8,
   "id": "b03e630f-307a-468e-af2c-555596879a6b",
   "metadata": {},
   "outputs": [],
   "source": [
    "class MonoCFTP:\n",
    "    def __init__(self, transition_rule, one, zero):\n",
    "        self.one = one\n",
    "        self.zero = zero\n",
    "        self.max = one.copy()\n",
    "        self.min = zero.copy()\n",
    "        self.transition_rule = transition_rule\n",
    "\n",
    "    def next(self, randnum):\n",
    "        self.min = self.transition_rule(self.min, randnum)\n",
    "        self.max = self.transition_rule(self.max, randnum)\n",
    "    \n",
    "    def sequence(self, r, T0, seed, iter):\n",
    "        self.min = self.zero.copy()\n",
    "        self.max = self.one.copy()\n",
    "\n",
    "        for i in reversed(range(iter)):\n",
    "            t = T0 * r ** i\n",
    "            rng = np.random.default_rng(seed = seed * (i + 2))\n",
    "            rands = rng.random(t)\n",
    "            for randnum in rands:\n",
    "                self.next(randnum)\n",
    "\n",
    "        t = T0\n",
    "        rng = np.random.default_rng(seed = seed)\n",
    "        rands = rng.random(t)\n",
    "        for randnum in rands:\n",
    "            self.next(randnum)\n",
    "            \n",
    "    def sample(self, seed, r, T0):\n",
    "        iter = 0\n",
    "        self.max = self.one.copy()\n",
    "        self.min = self.zero.copy()\n",
    "        while not self.max.equals(self.min):\n",
    "            iter += 1\n",
    "            self.sequence(r, T0, seed, iter)\n",
    "            print(T0 * (r ** iter))\n",
    "        return self.max"
   ]
  },
  {
   "cell_type": "code",
   "execution_count": 21,
   "id": "169fbffc-e57f-4e52-9dea-60593f2e3bd7",
   "metadata": {},
   "outputs": [],
   "source": [
    "SIZE = 80\n",
    "isingGraph = SquareLattice(2, SIZE)"
   ]
  },
  {
   "cell_type": "code",
   "execution_count": 30,
   "id": "9b47b607-9831-4944-8390-46774a7a2a0d",
   "metadata": {},
   "outputs": [],
   "source": [
    "TEMP = .5\n",
    "\n",
    "isingOne = IsingModel(isingGraph, TEMP, 1)\n",
    "isingZero = IsingModel(isingGraph, TEMP, -1)\n",
    "\n",
    "cftp = MonoCFTP(IsingModel.glaubner_coupling, isingOne, isingZero)"
   ]
  },
  {
   "cell_type": "code",
   "execution_count": 31,
   "id": "70208059-dbfc-4451-bb84-7bccaae16e7b",
   "metadata": {},
   "outputs": [
    {
     "name": "stdout",
     "output_type": "stream",
     "text": [
      "20000\n",
      "40000\n",
      "80000\n",
      "160000\n",
      "320000\n",
      "640000\n",
      "1280000\n",
      "2560000\n",
      "5120000\n",
      "10240000\n",
      "20480000\n"
     ]
    },
    {
     "ename": "KeyboardInterrupt",
     "evalue": "",
     "output_type": "error",
     "traceback": [
      "\u001b[0;31m---------------------------------------------------------------------------\u001b[0m",
      "\u001b[0;31mKeyboardInterrupt\u001b[0m                         Traceback (most recent call last)",
      "Cell \u001b[0;32mIn[31], line 2\u001b[0m\n\u001b[1;32m      1\u001b[0m t1 \u001b[38;5;241m=\u001b[39m time\u001b[38;5;241m.\u001b[39mtime()\n\u001b[0;32m----> 2\u001b[0m \u001b[43mcftp\u001b[49m\u001b[38;5;241;43m.\u001b[39;49m\u001b[43msample\u001b[49m\u001b[43m(\u001b[49m\u001b[38;5;241;43m1437\u001b[39;49m\u001b[43m,\u001b[49m\u001b[43m \u001b[49m\u001b[38;5;241;43m2\u001b[39;49m\u001b[43m,\u001b[49m\u001b[43m \u001b[49m\u001b[38;5;241;43m10000\u001b[39;49m\u001b[43m)\u001b[49m\n\u001b[1;32m      3\u001b[0m \u001b[38;5;28mprint\u001b[39m(time\u001b[38;5;241m.\u001b[39mtime() \u001b[38;5;241m-\u001b[39m t1)\n",
      "Cell \u001b[0;32mIn[8], line 36\u001b[0m, in \u001b[0;36mMonoCFTP.sample\u001b[0;34m(self, seed, r, T0)\u001b[0m\n\u001b[1;32m     34\u001b[0m \u001b[38;5;28;01mwhile\u001b[39;00m \u001b[38;5;129;01mnot\u001b[39;00m \u001b[38;5;28mself\u001b[39m\u001b[38;5;241m.\u001b[39mmax\u001b[38;5;241m.\u001b[39mequals(\u001b[38;5;28mself\u001b[39m\u001b[38;5;241m.\u001b[39mmin):\n\u001b[1;32m     35\u001b[0m     \u001b[38;5;28miter\u001b[39m \u001b[38;5;241m+\u001b[39m\u001b[38;5;241m=\u001b[39m \u001b[38;5;241m1\u001b[39m\n\u001b[0;32m---> 36\u001b[0m     \u001b[38;5;28;43mself\u001b[39;49m\u001b[38;5;241;43m.\u001b[39;49m\u001b[43msequence\u001b[49m\u001b[43m(\u001b[49m\u001b[43mr\u001b[49m\u001b[43m,\u001b[49m\u001b[43m \u001b[49m\u001b[43mT0\u001b[49m\u001b[43m,\u001b[49m\u001b[43m \u001b[49m\u001b[43mseed\u001b[49m\u001b[43m,\u001b[49m\u001b[43m \u001b[49m\u001b[38;5;28;43miter\u001b[39;49m\u001b[43m)\u001b[49m\n\u001b[1;32m     37\u001b[0m     \u001b[38;5;28mprint\u001b[39m(T0 \u001b[38;5;241m*\u001b[39m (r \u001b[38;5;241m*\u001b[39m\u001b[38;5;241m*\u001b[39m \u001b[38;5;28miter\u001b[39m))\n\u001b[1;32m     38\u001b[0m \u001b[38;5;28;01mreturn\u001b[39;00m \u001b[38;5;28mself\u001b[39m\u001b[38;5;241m.\u001b[39mmax\n",
      "Cell \u001b[0;32mIn[8], line 22\u001b[0m, in \u001b[0;36mMonoCFTP.sequence\u001b[0;34m(self, r, T0, seed, iter)\u001b[0m\n\u001b[1;32m     20\u001b[0m     rands \u001b[38;5;241m=\u001b[39m rng\u001b[38;5;241m.\u001b[39mrandom(t)\n\u001b[1;32m     21\u001b[0m     \u001b[38;5;28;01mfor\u001b[39;00m randnum \u001b[38;5;129;01min\u001b[39;00m rands:\n\u001b[0;32m---> 22\u001b[0m         \u001b[38;5;28;43mself\u001b[39;49m\u001b[38;5;241;43m.\u001b[39;49m\u001b[43mnext\u001b[49m\u001b[43m(\u001b[49m\u001b[43mrandnum\u001b[49m\u001b[43m)\u001b[49m\n\u001b[1;32m     24\u001b[0m t \u001b[38;5;241m=\u001b[39m T0\n\u001b[1;32m     25\u001b[0m rng \u001b[38;5;241m=\u001b[39m np\u001b[38;5;241m.\u001b[39mrandom\u001b[38;5;241m.\u001b[39mdefault_rng(seed \u001b[38;5;241m=\u001b[39m seed)\n",
      "Cell \u001b[0;32mIn[8], line 10\u001b[0m, in \u001b[0;36mMonoCFTP.next\u001b[0;34m(self, randnum)\u001b[0m\n\u001b[1;32m      9\u001b[0m \u001b[38;5;28;01mdef\u001b[39;00m \u001b[38;5;21mnext\u001b[39m(\u001b[38;5;28mself\u001b[39m, randnum):\n\u001b[0;32m---> 10\u001b[0m     \u001b[38;5;28mself\u001b[39m\u001b[38;5;241m.\u001b[39mmin \u001b[38;5;241m=\u001b[39m \u001b[38;5;28;43mself\u001b[39;49m\u001b[38;5;241;43m.\u001b[39;49m\u001b[43mtransition_rule\u001b[49m\u001b[43m(\u001b[49m\u001b[38;5;28;43mself\u001b[39;49m\u001b[38;5;241;43m.\u001b[39;49m\u001b[43mmin\u001b[49m\u001b[43m,\u001b[49m\u001b[43m \u001b[49m\u001b[43mrandnum\u001b[49m\u001b[43m)\u001b[49m\n\u001b[1;32m     11\u001b[0m     \u001b[38;5;28mself\u001b[39m\u001b[38;5;241m.\u001b[39mmax \u001b[38;5;241m=\u001b[39m \u001b[38;5;28mself\u001b[39m\u001b[38;5;241m.\u001b[39mtransition_rule(\u001b[38;5;28mself\u001b[39m\u001b[38;5;241m.\u001b[39mmax, randnum)\n",
      "\u001b[0;31mKeyboardInterrupt\u001b[0m: "
     ]
    }
   ],
   "source": [
    "t1 = time.time()\n",
    "cftp.sample(1437, 2, 10000)\n",
    "print(time.time() - t1)"
   ]
  },
  {
   "cell_type": "code",
   "execution_count": 32,
   "id": "ae8e6a43-ba3f-4335-b522-afc16b339141",
   "metadata": {},
   "outputs": [
    {
     "name": "stdout",
     "output_type": "stream",
     "text": [
      "6400\n"
     ]
    },
    {
     "data": {
      "text/plain": [
       "<matplotlib.image.AxesImage at 0x779bf88ca980>"
      ]
     },
     "execution_count": 32,
     "metadata": {},
     "output_type": "execute_result"
    },
    {
     "data": {
      "image/png": "[encoded data removed]",
      "text/plain": [
       "<Figure size 640x480 with 1 Axes>"
      ]
     },
     "metadata": {},
     "output_type": "display_data"
    }
   ],
   "source": [
    "print(len(cftp.max.graph.V))\n",
    "plt.imshow(np.reshape(np.array([[255,255,255] if x == 1 else [0,0,0] for x in cftp.min.graph.V]), (SIZE, SIZE, 3)))\n",
    "plt.imshow(np.reshape(np.array([[255,255,255] if x == 1 else [0,0,0] for x in cftp.max.graph.V]), (SIZE, SIZE, 3)))"
   ]
  },
  {
   "cell_type": "code",
   "execution_count": 60,
   "id": "c5358704-7682-43a4-b7e1-ab87bb1ff481",
   "metadata": {},
   "outputs": [
    {
     "name": "stdout",
     "output_type": "stream",
     "text": [
      "2000\n",
      "4000\n",
      "8000\n",
      "16000\n",
      "32000\n",
      "64000\n",
      "128000\n",
      "256000\n",
      "512000\n",
      "1024000\n",
      "         39829027 function calls in 17.296 seconds\n",
      "\n",
      "   Random listing order was used\n",
      "\n",
      "   ncalls  tottime  percall  cumtime  percall filename:lineno(function)\n",
      "       20    0.000    0.000    0.000    0.000 {method 'get' of '_contextvars.ContextVar' objects}\n",
      "    14872    0.001    0.000    0.001    0.000 {method 'keys' of 'dict' objects}\n",
      "       20    0.000    0.000    0.000    0.000 {method 'items' of 'dict' objects}\n",
      "     7436    0.001    0.000    0.001    0.000 {method 'values' of 'dict' objects}\n",
      "       88    0.032    0.000    0.032    0.000 {method 'copy' of 'list' objects}\n",
      " 13147200    0.690    0.000    0.690    0.000 {method 'append' of 'list' objects}\n",
      "       44    0.000    0.000    0.000    0.000 {built-in method builtins.hasattr}\n",
      "     7456    0.001    0.000    0.001    0.000 {built-in method builtins.isinstance}\n",
      "  4092086    0.288    0.000    0.288    0.000 {built-in method builtins.len}\n",
      "       10    0.000    0.000    0.001    0.000 {built-in method builtins.print}\n",
      "  4092000    0.560    0.000    0.560    0.000 {built-in method builtins.sum}\n",
      "     3738    0.001    0.000    0.001    0.000 {method '__exit__' of '_thread.RLock' objects}\n",
      "       10    0.000    0.000    0.000    0.000 {method 'acquire' of '_thread.lock' objects}\n",
      "       20    0.000    0.000    0.000    0.000 {built-in method posix.getpid}\n",
      "       20    0.000    0.000    0.000    0.000 {method 'write' of '_io.StringIO' objects}\n",
      "       65    0.000    0.000    0.000    0.000 {built-in method _abc._abc_instancecheck}\n",
      "       10    0.000    0.000    0.000    0.000 {method 'append' of 'collections.deque' objects}\n",
      "  4092000    0.523    0.000    0.523    0.000 {built-in method math.floor}\n",
      "  4092000    0.395    0.000    0.395    0.000 {built-in method math.tanh}\n",
      "       10    0.636    0.064   16.896    1.690 /tmp/ipykernel_26279/2569368276.py:13(sequence)\n",
      "  4092000    6.070    0.000   10.223    0.000 /tmp/ipykernel_26279/2119591129.py:37(glaubner_coupling)\n",
      "  2046000    1.199    0.000   11.422    0.000 /tmp/ipykernel_26279/2569368276.py:9(next)\n",
      "        1    0.014    0.014   17.296   17.296 /tmp/ipykernel_26279/2569368276.py:30(sample)\n",
      "       22    0.000    0.000    3.457    0.157 /tmp/ipykernel_26279/2119591129.py:2(__init__)\n",
      "  4092000    2.387    0.000    2.387    0.000 /tmp/ipykernel_26279/2119591129.py:45(<listcomp>)\n",
      "       11    0.000    0.000    0.000    0.000 /tmp/ipykernel_26279/2119591129.py:22(equals)\n",
      "       22    0.000    0.000    5.212    0.237 /tmp/ipykernel_26279/2119591129.py:17(copy)\n",
      "       66    4.453    0.067    5.179    0.078 /tmp/ipykernel_26279/1254232227.py:6(easy_access)\n",
      "       44    0.000    0.000    0.000    0.000 /tmp/ipykernel_26279/1254232227.py:2(__init__)\n",
      "       44    0.000    0.000    3.046    0.069 /tmp/ipykernel_26279/1254232227.py:15(copy)\n",
      "      130    0.000    0.000    0.000    0.000 {built-in method numpy.seterrobj}\n",
      "      260    0.000    0.000    0.000    0.000 {built-in method numpy.geterrobj}\n",
      "       65    0.006    0.000    0.006    0.000 {method 'random' of 'numpy.random._generator.Generator' objects}\n",
      "       65    0.003    0.000    0.005    0.000 {numpy.random._generator.default_rng}\n",
      "      130    0.000    0.000    0.001    0.000 /home/aidan/.local/lib/python3.10/site-packages/numpy/core/_ufunc_config.py:33(seterr)\n",
      "      130    0.000    0.000    0.000    0.000 /home/aidan/.local/lib/python3.10/site-packages/numpy/core/_ufunc_config.py:132(geterr)\n",
      "       65    0.000    0.000    0.001    0.000 /home/aidan/.local/lib/python3.10/site-packages/numpy/core/_ufunc_config.py:430(__enter__)\n",
      "       65    0.000    0.000    0.000    0.000 /home/aidan/.local/lib/python3.10/site-packages/numpy/core/_ufunc_config.py:435(__exit__)\n",
      "       65    0.001    0.000    0.001    0.000 {function SeedSequence.generate_state at 0x7c6d98789b40}\n",
      "       65    0.000    0.000    0.000    0.000 /home/aidan/.local/lib/python3.10/site-packages/numpy/core/multiarray.py:153(concatenate)\n",
      "       20    0.000    0.000    0.000    0.000 /home/aidan/.local/lib/python3.10/site-packages/ipykernel/iostream.py:550(_is_master_process)\n",
      "       10    0.000    0.000    0.000    0.000 /home/aidan/.local/lib/python3.10/site-packages/ipykernel/iostream.py:138(_event_pipe)\n",
      "       10    0.000    0.000    0.000    0.000 /home/aidan/.local/lib/python3.10/site-packages/ipykernel/iostream.py:259(schedule)\n",
      "       20    0.000    0.000    0.000    0.000 /home/aidan/.local/lib/python3.10/site-packages/ipykernel/iostream.py:505(parent_header)\n",
      "       20    0.000    0.000    0.000    0.000 /home/aidan/.local/lib/python3.10/site-packages/ipykernel/iostream.py:577(_schedule_flush)\n",
      "       20    0.000    0.000    0.001    0.000 /home/aidan/.local/lib/python3.10/site-packages/ipykernel/iostream.py:655(write)\n",
      "     3718    0.008    0.000    0.013    0.000 /home/aidan/.local/lib/python3.10/site-packages/ipykernel/ipkernel.py:785(<setcomp>)\n",
      "     7436    0.015    0.000    0.036    0.000 /home/aidan/.local/lib/python3.10/site-packages/ipykernel/ipkernel.py:770(_clean_thread_parent_frames)\n",
      "        1    0.000    0.000    0.000    0.000 /usr/lib/python3.10/cProfile.py:118(__exit__)\n",
      "        1    0.000    0.000    0.000    0.000 {method 'disable' of '_lsprof.Profiler' objects}\n",
      "        1    0.000    0.000    0.000    0.000 /home/aidan/.local/lib/python3.10/site-packages/dateutil/tz/tz.py:74(utcoffset)\n",
      "       10    0.000    0.000    0.000    0.000 /home/aidan/.local/lib/python3.10/site-packages/zmq/sugar/socket.py:621(send)\n",
      "       10    0.000    0.000    0.000    0.000 /usr/lib/python3.10/threading.py:553(is_set)\n",
      "       10    0.000    0.000    0.000    0.000 /usr/lib/python3.10/threading.py:1102(_wait_for_tstate_lock)\n",
      "    33462    0.006    0.000    0.006    0.000 /usr/lib/python3.10/threading.py:1145(ident)\n",
      "       10    0.000    0.000    0.000    0.000 /usr/lib/python3.10/threading.py:1169(is_alive)\n",
      "     3718    0.006    0.000    0.007    0.000 /usr/lib/python3.10/threading.py:1478(enumerate)\n",
      "       65    0.000    0.000    0.000    0.000 /usr/lib/python3.10/abc.py:117(__instancecheck__)\n",
      "       65    0.000    0.000    0.000    0.000 /usr/lib/python3.10/contextlib.py:63(_recreate_cm)\n",
      "       65    0.000    0.000    0.003    0.000 /usr/lib/python3.10/contextlib.py:76(inner)\n",
      "\n",
      "\n"
     ]
    },
    {
     "data": {
      "text/plain": [
       "<pstats.Stats at 0x7c6d23915990>"
      ]
     },
     "execution_count": 60,
     "metadata": {},
     "output_type": "execute_result"
    }
   ],
   "source": [
    "test = cftp.max.copy()\n",
    "with cProfile.Profile() as profile:\n",
    "    cftp.sample(513, 2, 1000)\n",
    "profile_result = pstats.Stats(profile)\n",
    "profile_result.print_stats()"
   ]
  },
  {
   "cell_type": "code",
   "execution_count": null,
   "id": "f1c00a76-df00-4068-b946-f45ab4547f2a",
   "metadata": {},
   "outputs": [],
   "source": []
  }
 ],
 "metadata": {
  "kernelspec": {
   "display_name": "Python 3 (ipykernel)",
   "language": "python",
   "name": "python3"
  },
  "language_info": {
   "codemirror_mode": {
    "name": "ipython",
    "version": 3
   },
   "file_extension": ".py",
   "mimetype": "text/x-python",
   "name": "python",
   "nbconvert_exporter": "python",
   "pygments_lexer": "ipython3",
   "version": "3.10.12"
  }
 },
 "nbformat": 4,
 "nbformat_minor": 5
}
